{
 "cells": [
  {
   "cell_type": "code",
   "execution_count": 1,
   "metadata": {
    "collapsed": true
   },
   "outputs": [],
   "source": [
    "#Python3\n",
    "import numpy as np\n",
    "import csv\n",
    "import matplotlib.pylab as plt\n",
    "import sys\n",
    "\n",
    "def read_file(filename):\n",
    "    data = []\n",
    "    with open('data/%s'%filename) as file:\n",
    "        content = csv.reader(file)\n",
    "        for c in content:\n",
    "            data.append(c)\n",
    "    return np.matrix(data).astype(np.float32)\n",
    "\n",
    "X_train = read_file('boosting/X_train.csv')\n",
    "X_test = read_file('boosting/X_test.csv')\n",
    "Y_train = read_file('boosting/y_train.csv')\n",
    "Y_test = read_file('boosting/y_test.csv')\n",
    "assert np.shape(X_train)==(1036,5)\n",
    "assert np.shape(X_test)==(1000,5)\n",
    "assert np.shape(Y_train)==(1036,1)\n",
    "assert np.shape(Y_test)==(1000,1)"
   ]
  },
  {
   "cell_type": "code",
   "execution_count": 2,
   "metadata": {
    "collapsed": true
   },
   "outputs": [],
   "source": [
    "class boosted_linear_classifier(object):\n",
    "    \n",
    "    def __init__(self,Xtrain,ytrain,Xtest,ytest):\n",
    "        self.n_train = Xtrain.shape[0]\n",
    "        self.sample_weights = np.repeat(1/self.n_train,\n",
    "                                        self.n_train).reshape(-1,1)\n",
    "        self.Xtrain = Xtrain\n",
    "        self.Xtest = Xtest\n",
    "        self.ytrain = ytrain\n",
    "        self.ytest = ytest\n",
    "\n",
    "        #record running totals for the final prediction:\n",
    "        self.total_pred_train_mag = 0\n",
    "        self.total_pred_test_mag = 0\n",
    "\n",
    "        #recording for charts later\n",
    "        self.train_errors = []\n",
    "        self.test_errors = []\n",
    "        self.boost_eps = []\n",
    "        self.boost_alphas = []\n",
    "        \n",
    "    def new_boostrap_sample(self):\n",
    "        # print(list(np.asarray(self.sample_weights).flatten()))\n",
    "        # print(self.sample_weights.shape)\n",
    "        # print(self.sample_weights.flatten().tolist())\n",
    "        self.bt_sample_ind = np.random.choice(\n",
    "                            self.n_train,self.n_train,\n",
    "                            replace=True,\n",
    "                            p=list(np.asarray(self.sample_weights).flatten())\n",
    "                            )\n",
    "\n",
    "    def train(self):\n",
    "        #Filter data as per the sample:\n",
    "        X = self.Xtrain[self.bt_sample_ind,:]\n",
    "        y = self.ytrain[self.bt_sample_ind]\n",
    "        #Find weights :\n",
    "        self.weights = np.linalg.inv(X.T.dot(X)).dot(X.T).dot(y)\n",
    "        # print(self.weights.shape)\n",
    "\n",
    "    def predict(self):\n",
    "        self.curr_predict_train_mag = self.Xtrain.dot(self.weights)\n",
    "        self.curr_predict_test_mag = self.Xtest.dot(self.weights)\n",
    "\n",
    "        self.curr_predict_train = np.sign(self.curr_predict_train_mag)\n",
    "        self.curr_predict_test = np.sign(self.curr_predict_test_mag)\n",
    "        # print(self.predict_test.shape,self.predict_train.shape)\n",
    "    \n",
    "    def calc_alpha(self):\n",
    "        #calculate eps:\n",
    "        # print(sum(~np.equal(ytrain,self.curr_predict_train)))\n",
    "        eps = np.sum(self.sample_weights[~np.equal(self.ytrain,\n",
    "                                              self.curr_predict_train)])\n",
    "        self.alpha = 0.5*np.log((1-eps)/eps)\n",
    "\n",
    "        self.boost_eps.append(eps)\n",
    "        self.boost_alphas.append(self.alpha)\n",
    "        # print(self.alpha)\n",
    "\n",
    "    def calc_prediction_error(self):\n",
    "        #update totals:\n",
    "        self.total_pred_train_mag += self.alpha*self.curr_predict_train_mag\n",
    "        self.total_pred_test_mag += self.alpha*self.curr_predict_test_mag\n",
    "        \n",
    "        #get errors:\n",
    "        train_error = np.mean(np.sign(self.total_pred_train_mag)!=self.ytrain)\n",
    "        test_error = np.mean(np.sign(self.total_pred_test_mag)!=self.ytest)\n",
    "\n",
    "        #update the error list\n",
    "        self.train_errors.append(train_error)\n",
    "        self.test_errors.append(test_error)\n",
    "\n",
    "    def update_sample_weights(self):\n",
    "        mutiplier = np.exp(-self.alpha*np.multiply(self.ytrain,\n",
    "                                                   self.curr_predict_train_mag))\n",
    "        # print(mutiplier)\n",
    "        #scale:\n",
    "        self.sample_weights = np.multiply(self.sample_weights,\n",
    "                                          mutiplier)\n",
    "        #normalize:\n",
    "        # print(sum(self.sample_weights))\n",
    "        self.sample_weights = self.sample_weights / sum(self.sample_weights)\n",
    "        # print(self.sample_weights.shape)\n",
    "\n",
    "def line_plot(x,y1,y2,xticks,xlabel,ylabel,title,savfigname,leg=None):\n",
    "    plt.figure()\n",
    "    plt.plot(x,y1,'b')\n",
    "\n",
    "    if y2 is not None:\n",
    "        plt.plot(x,y2,'g')\n",
    "        plt.legend(leg)\n",
    "    plt.xticks(xticks)\n",
    "    plt.xlabel(xlabel)\n",
    "    plt.ylabel(ylabel)\n",
    "    plt.title(title)\n",
    "    plt.savefig(savfigname)\n",
    "    plt.show()\n"
   ]
  },
  {
   "cell_type": "code",
   "execution_count": 3,
   "metadata": {
    "collapsed": false
   },
   "outputs": [],
   "source": [
    "#Add dimension of 1s \n",
    "X_train = np.column_stack((np.ones(X_train.shape[0]),X_train))\n",
    "X_test = np.column_stack((np.ones(X_test.shape[0]),X_test))\n",
    "\n",
    "n_train = X_train.shape[0]"
   ]
  },
  {
   "cell_type": "code",
   "execution_count": 48,
   "metadata": {
    "collapsed": false
   },
   "outputs": [
    {
     "data": {
      "image/png": "[encoded data removed]",
      "text/plain": [
       "<matplotlib.figure.Figure at 0x110fdb0b8>"
      ]
     },
     "metadata": {},
     "output_type": "display_data"
    }
   ],
   "source": [
    "#create a class object:\n",
    "boosted_lc = boosted_linear_classifier(X_train,Y_train,X_test,Y_test)\n",
    "\n",
    "T=100\n",
    "\n",
    "#start boosting:\n",
    "for t in range(T):\n",
    "    # print(t)\n",
    "    #take a new bootstrap sample:\n",
    "    boosted_lc.new_boostrap_sample()\n",
    "\n",
    "    #train the classifier:\n",
    "    boosted_lc.train()\n",
    "    boosted_lc.predict()\n",
    "\n",
    "    #calculate alpha for that classifier:\n",
    "    boosted_lc.calc_alpha()\n",
    "\n",
    "    #calculate prediction error for classifier:\n",
    "    boosted_lc.calc_prediction_error()\n",
    "\n",
    "    #update sample weights:\n",
    "    boosted_lc.update_sample_weights()\n",
    "\n",
    "line_plot(range(1,T+1),boosted_lc.boost_alphas,y2=None,\n",
    "          xticks=np.linspace(1,T,11),\n",
    "          xlabel='Boosting Iteration',\n",
    "          ylabel='ALPHA',\n",
    "          title='Alpha by iteration',\n",
    "          savfigname='hw3_alphas.png')"
   ]
  },
  {
   "cell_type": "code",
   "execution_count": 38,
   "metadata": {
    "collapsed": false
   },
   "outputs": [
    {
     "data": {
      "text/plain": [
       "matrix([[-0.66928039],\n",
       "        [ 0.95294561],\n",
       "        [ 4.22525252],\n",
       "        [ 0.02770255],\n",
       "        [ 0.79546253],\n",
       "        [-4.40780015]])"
      ]
     },
     "execution_count": 38,
     "metadata": {},
     "output_type": "execute_result"
    }
   ],
   "source": [
    "boosted_lc.weights"
   ]
  },
  {
   "cell_type": "code",
   "execution_count": 39,
   "metadata": {
    "collapsed": true
   },
   "outputs": [],
   "source": [
    "import pandas as pd"
   ]
  },
  {
   "cell_type": "code",
   "execution_count": 40,
   "metadata": {
    "collapsed": false
   },
   "outputs": [
    {
     "data": {
      "text/plain": [
       "-1.0    0.78668\n",
       " 1.0    0.21332\n",
       "dtype: float64"
      ]
     },
     "execution_count": 40,
     "metadata": {},
     "output_type": "execute_result"
    }
   ],
   "source": [
    "pd.Series(list(np.asarray(Y_train).flatten())).value_counts()/1036"
   ]
  },
  {
   "cell_type": "code",
   "execution_count": 41,
   "metadata": {
    "collapsed": false
   },
   "outputs": [],
   "source": [
    "right_pred = np.asarray(boosted_lc.curr_predict_train==Y_train).flatten()"
   ]
  },
  {
   "cell_type": "code",
   "execution_count": 45,
   "metadata": {
    "collapsed": false
   },
   "outputs": [
    {
     "data": {
      "text/plain": [
       "0.8426640926640927"
      ]
     },
     "execution_count": 45,
     "metadata": {},
     "output_type": "execute_result"
    }
   ],
   "source": [
    "np.mean(right_pred)"
   ]
  },
  {
   "cell_type": "code",
   "execution_count": 42,
   "metadata": {
    "collapsed": false
   },
   "outputs": [
    {
     "data": {
      "text/plain": [
       "0.00078431195607841272"
      ]
     },
     "execution_count": 42,
     "metadata": {},
     "output_type": "execute_result"
    }
   ],
   "source": [
    "np.mean(boosted_lc.sample_weights[right_pred])"
   ]
  },
  {
   "cell_type": "code",
   "execution_count": 43,
   "metadata": {
    "collapsed": false
   },
   "outputs": [
    {
     "data": {
      "text/plain": [
       "0.0019343292168315658"
      ]
     },
     "execution_count": 43,
     "metadata": {},
     "output_type": "execute_result"
    }
   ],
   "source": [
    "np.mean(boosted_lc.sample_weights[~right_pred])"
   ]
  },
  {
   "cell_type": "code",
   "execution_count": null,
   "metadata": {
    "collapsed": true
   },
   "outputs": [],
   "source": []
  },
  {
   "cell_type": "code",
   "execution_count": null,
   "metadata": {
    "collapsed": true
   },
   "outputs": [],
   "source": []
  }
 ],
 "metadata": {
  "kernelspec": {
   "display_name": "Python 3",
   "language": "python",
   "name": "python3"
  },
  "language_info": {
   "codemirror_mode": {
    "name": "ipython",
    "version": 3
   },
   "file_extension": ".py",
   "mimetype": "text/x-python",
   "name": "python",
   "nbconvert_exporter": "python",
   "pygments_lexer": "ipython3",
   "version": "3.6.0"
  }
 },
 "nbformat": 4,
 "nbformat_minor": 2
}
